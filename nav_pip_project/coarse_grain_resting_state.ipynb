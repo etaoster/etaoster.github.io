{
 "cells": [
  {
   "cell_type": "code",
   "execution_count": 23,
   "metadata": {},
   "outputs": [],
   "source": [
    "import MDAnalysis as mda\n",
    "import warnings\n",
    "import pandas as pd \n",
    "import matplotlib.pyplot as plt\n",
    "import numpy as np\n",
    "from MDAnalysis.analysis import distances\n",
    "import re\n",
    "from collections import Counter\n",
    "\n",
    "warnings.filterwarnings('ignore')\n",
    "\n",
    "def remove_adjacent(nums):\n",
    "  i = 0\n",
    "  while i < len(nums):    \n",
    "    if nums[i] == nums[i-1]:\n",
    "        if nums[i] == 0:\n",
    "            nums.pop(i)\n",
    "            i -= 1  \n",
    "    i += 1\n",
    "  return nums\n",
    "\n",
    "def occ_dist_1_all(pdb,sel):\n",
    "    all=pd.DataFrame()\n",
    "    reps=['rep1', 'rep2', 'rep3']\n",
    "    vsd=pd.DataFrame()\n",
    "    for r in reps:\n",
    "        u=mda.Universe(pdb+'/traj/labelled.gro', pdb+'/traj/'+r+'.xtc')\n",
    "        vpbs=u.select_atoms('name BB SC1 SC2 and resid '+ sel)\n",
    "        pip=u.select_atoms('resname POP1 POP2 POP3').residues \n",
    "        all=pd.DataFrame()\n",
    "        for residue in pip:\n",
    "            count=[]\n",
    "            for ts in u.trajectory[::250]:\n",
    "                df=pd.DataFrame(distances.distance_array(residue.atoms.positions,vpbs.positions))\n",
    "                vc=(df.min()<7).value_counts().get(True)\n",
    "                if vc is not None and vc>1:\n",
    "                    count.append(1)\n",
    "                else: \n",
    "                    count.append(0)\n",
    "            all[residue.resid]=count\n",
    "            all=all.loc[:, (all.sum() > 1)]\n",
    "\n",
    "        bindingpips=\" \".join(list((all.rolling(2).mean()>0.5).any().index.astype(str)))\n",
    "        pip=u.select_atoms('resname POP1 POP2 POP3 and resid '+bindingpips).residues\n",
    "        for residue in pip:\n",
    "            count=[]\n",
    "            for ts in u.trajectory[::100]:\n",
    "                df=pd.DataFrame(distances.distance_array(residue.atoms.positions,vpbs.positions))\n",
    "                vc=(df.min()<7).value_counts().get(True)\n",
    "                if vc is not None and vc>0:\n",
    "                    count.append(vc)\n",
    "                else: \n",
    "                    count.append(0)\n",
    "            vsd[r+'-'+residue.resname+'-'+str(residue.resid)]=count\n",
    "\n",
    "    l=[]\n",
    "    lpip=[]\n",
    "    for i in vsd.columns:\n",
    "        clean=remove_adjacent(vsd[i].tolist())\n",
    "        string=\"\".join(map(str,clean))\n",
    "        sstring=re.split('0', string)\n",
    "        a=[]\n",
    "        for s in sstring:\n",
    "            if len(s)>199:\n",
    "                lpip.append(i)\n",
    "            if len(s)>9:\n",
    "                l.append(len(s)/10)\n",
    "    return(l, lpip)\n",
    "        "
   ]
  },
  {
   "cell_type": "code",
   "execution_count": 29,
   "metadata": {},
   "outputs": [
    {
     "data": {
      "image/png": "[encoded data removed]",
      "text/plain": [
       "<Figure size 720x180 with 4 Axes>"
      ]
     },
     "metadata": {
      "needs_background": "light"
     },
     "output_type": "display_data"
    }
   ],
   "source": [
    "ind=['R222', 'R225', 'K228', 'R675', 'K678', 'K681', 'R1135', 'R1138', 'R1142', 'R1454', 'R1457', 'R1460']\n",
    "inact=pd.read_csv('/mnt/sdb1/YC/NaV-PIP/Nav1.4/enriched-pip/analysis/contacts/nav1.4_gc.csv', index_col=0)\n",
    "inact_err=pd.read_csv('/mnt/sdb1/YC/NaV-PIP/Nav1.4/enriched-pip/analysis/contacts/nav1.4_gc_err.csv', index_col=0)\n",
    "resting = pd.DataFrame(index=ind)\n",
    "\n",
    "for j in [1,2,3]:\n",
    "    u=mda.Universe(\"contact/resting-\"+str(j)+\".pdb\")\n",
    "    resting[\"rep \"+str(j)]=list(u.atoms.tempfactors)\n",
    "\n",
    "df=pd.DataFrame(index=ind)\n",
    "df['inact']=inact.iloc[:, 0]\n",
    "df['resting']=resting.mean(axis=1)\n",
    "\n",
    "err=pd.DataFrame(index=ind)\n",
    "err['inact']=inact_err.iloc[:, 0]\n",
    "err['resting']=resting.sem(axis=1)\n",
    "\n",
    "fig, axes = plt.subplots(ncols=4, nrows=1, sharey='all', figsize=(10, 2.5), gridspec_kw={'width_ratios':[1, 1,1, 1], 'wspace': 0.0, 'hspace':0})\n",
    "df.loc[['R222', 'R225', 'K228']].plot.bar(yerr=err, rot=0, legend=False, color=['#4E91E6', '#FFB586'], ax=axes[0], width=0.8)\n",
    "df.loc[['R675', 'K678', 'K681']].plot.bar(yerr=err, rot=0, legend=False, color=['#4E91E6', '#FFB586'], ax=axes[1], width=0.8)\n",
    "df.loc[['R1135', 'R1138', 'R1142']].plot.bar(yerr=err, rot=0, legend=False, color=['#4E91E6', '#FFB586'], ax=axes[2], width=0.8)\n",
    "df.loc[['R1454', 'R1457', 'R1460']].plot.bar(yerr=err, rot=0, legend=False, color=['#4E91E6', '#FFB586'], ax=axes[3], width=0.8)\n",
    "fig.text(0.5,-0.01, \"Gating Charge Residues\", ha=\"center\", va=\"center\")\n",
    "fig.text(0.08, 0.5, 'PIP Occupancy', ha='center', va='center', rotation='vertical')\n",
    "\n",
    "\n",
    "plt.savefig('Nav1.4_resting.png', bbox_inches='tight')"
   ]
  }
 ],
 "metadata": {
  "kernelspec": {
   "display_name": "Python 3.8.5",
   "language": "python",
   "name": "python3"
  },
  "language_info": {
   "codemirror_mode": {
    "name": "ipython",
    "version": 3
   },
   "file_extension": ".py",
   "mimetype": "text/x-python",
   "name": "python",
   "nbconvert_exporter": "python",
   "pygments_lexer": "ipython3",
   "version": "3.8.5"
  },
  "orig_nbformat": 4,
  "vscode": {
   "interpreter": {
    "hash": "1c8c1f81af6bd3b6c0a9fc654c1618aefb1c52f8e381868ae6d509a85df6eaa2"
   }
  }
 },
 "nbformat": 4,
 "nbformat_minor": 2
}
